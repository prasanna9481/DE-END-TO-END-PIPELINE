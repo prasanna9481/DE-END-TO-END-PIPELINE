{
 "cells": [
  {
   "cell_type": "markdown",
   "metadata": {},
   "source": [
    "# Download Data, sort after date and save"
   ]
  },
  {
   "cell_type": "markdown",
   "metadata": {},
   "source": [
    "### Download Serverless"
   ]
  },
  {
   "cell_type": "code",
   "execution_count": 3,
   "metadata": {},
   "outputs": [
    {
     "name": "stdout",
     "output_type": "stream",
     "text": [
      "download: s3://redshift-downloads/redset/serverless/full.parquet to ./full_serverless.parquet\n"
     ]
    }
   ],
   "source": [
    "!aws s3 cp --no-sign-request s3://redshift-downloads/redset/serverless/full.parquet full_serverless.parquet"
   ]
  },
  {
   "cell_type": "markdown",
   "metadata": {},
   "source": [
    "### Download Provisioned 1%"
   ]
  },
  {
   "cell_type": "code",
   "execution_count": 6,
   "metadata": {},
   "outputs": [
    {
     "name": "stdout",
     "output_type": "stream",
     "text": [
      "download: s3://redshift-downloads/redset/provisioned/sample_0.01.parquet to ./sample_0.01_provisioned.parquet\n"
     ]
    }
   ],
   "source": [
    "!aws s3 cp --no-sign-request s3://redshift-downloads/redset/provisioned/sample_0.01.parquet sample_0.01_provisioned.parquet"
   ]
  },
  {
   "cell_type": "markdown",
   "metadata": {},
   "source": [
    "### Combine both data"
   ]
  },
  {
   "cell_type": "code",
   "execution_count": 7,
   "metadata": {},
   "outputs": [
    {
     "name": "stdout",
     "output_type": "stream",
     "text": [
      "Loading serverless dataset...\n",
      "Loading provisioned dataset...\n",
      "Combining datasets...\n",
      "Sorting by arrival_timestamp...\n",
      "Saving combined and sorted dataset to combined_sorted_redset_datasets.parquet...\n",
      "Done! Combined and sorted dataset saved as Parquet.\n",
      "2024-02-29 23:59:58.741545\n",
      "2024-05-30 23:59:42.680457\n"
     ]
    }
   ],
   "source": [
    "import pandas as pd\n",
    "\n",
    "# Load the serverless dataset\n",
    "print(\"Loading serverless dataset...\")\n",
    "serverless_df = pd.read_parquet(\"full_serverless.parquet\")\n",
    "serverless_df['dataset_type'] = 'serverless'  # Add flag for serverless\n",
    "\n",
    "# Load the provisioned dataset\n",
    "print(\"Loading provisioned dataset...\")\n",
    "provisioned_df = pd.read_parquet(\"sample_0.01_provisioned.parquet\")\n",
    "provisioned_df['dataset_type'] = 'provisioned'  # Add flag for provisioned\n",
    "\n",
    "# Combine both datasets into one DataFrame\n",
    "print(\"Combining datasets...\")\n",
    "combined_df = pd.concat([serverless_df, provisioned_df], ignore_index=True)\n",
    "\n",
    "# Sort the combined dataset by 'arrival_timestamp'\n",
    "print(\"Sorting by arrival_timestamp...\")\n",
    "combined_df = combined_df.sort_values(by='arrival_timestamp')\n",
    "\n",
    "print(\"Droping duplicates...\")\n",
    "combined_df = combined_df.drop_duplicates()\n",
    "\n",
    "# Save the sorted and combined dataset as a Parquet file\n",
    "output_path = \"combined_sorted_redset_datasets.parquet\"\n",
    "print(f\"Saving combined and sorted dataset to {output_path}...\")\n",
    "combined_df.to_parquet(output_path, index=False)\n",
    "\n",
    "print(\"Done! Combined and sorted dataset saved as Parquet.\")"
   ]
  }
 ],
 "metadata": {
  "kernelspec": {
   "display_name": ".venv",
   "language": "python",
   "name": "python3"
  },
  "language_info": {
   "codemirror_mode": {
    "name": "ipython",
    "version": 3
   },
   "file_extension": ".py",
   "mimetype": "text/x-python",
   "name": "python",
   "nbconvert_exporter": "python",
   "pygments_lexer": "ipython3",
   "version": "3.12.8"
  }
 },
 "nbformat": 4,
 "nbformat_minor": 2
}
