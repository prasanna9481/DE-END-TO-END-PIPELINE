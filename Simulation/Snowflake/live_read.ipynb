{
 "cells": [
  {
   "cell_type": "code",
   "execution_count": null,
   "metadata": {},
   "outputs": [],
   "source": [
    "import snowflake.connector\n",
    "import dotenv\n",
    "import os\n",
    "import time\n",
    "\n",
    "# Load environment variables\n",
    "SNOWFLAKE_PASSWORD = os.getenv(\"SNOWFLAKE_PASSWORD\")\n",
    "\n",
    "# Snowflake connection configuration\n",
    "config = {\n",
    "    \"account\": \"SFEDU02-KFB85562\",\n",
    "    \"user\": \"BISON\",\n",
    "    \"password\": SNOWFLAKE_PASSWORD,\n",
    "    \"role\": \"TRAINING_ROLE\",\n",
    "    \"warehouse\": \"ANIMAL_TASK_WH\",\n",
    "    \"database\": \"CATCH_ME_IF_YOU_CAN\",\n",
    "    \"schema\": \"PUBLIC\"\n",
    "}\n",
    "old_count = 0\n",
    "while True:\n",
    "    try:\n",
    "        # Open a read-only connection (retry on failure)\n",
    "        conn = snowflake.connector.connect(**config)\n",
    "        cur = conn.cursor()\n",
    "        result = cur.execute(\"SELECT COUNT(*) FROM live_queries;\").fetchone()\n",
    "        count = result[0]\n",
    "        print(f\"Number of entries: {count}, new entries: {count - old_count}\")\n",
    "        old_count = count\n",
    "\n",
    "        # Close the cursor and connection\n",
    "        cur.close()\n",
    "        conn.close()      \n",
    "        \n",
    "    except Exception as e:\n",
    "        print(f\"Reader Error: {e}\")\n",
    "        \n",
    "    finally:\n",
    "        if 'conn' in locals():\n",
    "            conn.close()  # Ensure connection is closed\n",
    "    \n",
    "    time.sleep(1)"
   ]
  }
 ],
 "metadata": {
  "kernelspec": {
   "display_name": ".venv",
   "language": "python",
   "name": "python3"
  },
  "language_info": {
   "codemirror_mode": {
    "name": "ipython",
    "version": 3
   },
   "file_extension": ".py",
   "mimetype": "text/x-python",
   "name": "python",
   "nbconvert_exporter": "python",
   "pygments_lexer": "ipython3",
   "version": "3.12.8"
  }
 },
 "nbformat": 4,
 "nbformat_minor": 2
}
