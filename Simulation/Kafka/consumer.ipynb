{
 "cells": [
  {
   "cell_type": "markdown",
   "metadata": {},
   "source": [
    "# Consumer (receives Kafka data)"
   ]
  },
  {
   "cell_type": "code",
   "execution_count": null,
   "metadata": {},
   "outputs": [],
   "source": [
    "# consumer.py\n",
    "from confluent_kafka import Consumer\n",
    "import random\n",
    "\n",
    "def run_consumer():\n",
    "    # Kafka Konfiguration\n",
    "    kafka_config = {\n",
    "        'bootstrap.servers': 'localhost:9092',\n",
    "        'group.id': f'hello_group_{random.randint(1, 1000000)}',\n",
    "        'auto.offset.reset': 'latest' # latest, earliest, none -> means if no offset is available, start from the latest message\n",
    "    }\n",
    "    \n",
    "    # Consumer erstellen\n",
    "    consumer = Consumer(kafka_config)\n",
    "    \n",
    "    # Topic abonnieren\n",
    "    topic = 'chache-me-if-you-can'\n",
    "    consumer.subscribe([topic])\n",
    "    \n",
    "    try:\n",
    "        while True:\n",
    "            # Auf Nachrichten warten (Timeout 1 Sekunde)\n",
    "            msg = consumer.poll(1.0)\n",
    "            \n",
    "            if msg is None:\n",
    "                continue\n",
    "                \n",
    "            if msg.error():\n",
    "                print(f'Consumer error: {msg.error()}')\n",
    "                continue\n",
    "                \n",
    "            # Nachricht ausgeben\n",
    "            print(f'Empfangene Nachricht: {msg.value().decode(\"utf-8\")}')\n",
    "            \n",
    "    except KeyboardInterrupt:\n",
    "        print(\"Consumer wird beendet...\")\n",
    "    finally:\n",
    "        consumer.close()\n",
    "\n",
    "if __name__ == '__main__':\n",
    "    run_consumer()"
   ]
  }
 ],
 "metadata": {
  "kernelspec": {
   "display_name": ".venv",
   "language": "python",
   "name": "python3"
  },
  "language_info": {
   "codemirror_mode": {
    "name": "ipython",
    "version": 3
   },
   "file_extension": ".py",
   "mimetype": "text/x-python",
   "name": "python",
   "nbconvert_exporter": "python",
   "pygments_lexer": "ipython3",
   "version": "3.12.8"
  }
 },
 "nbformat": 4,
 "nbformat_minor": 2
}
