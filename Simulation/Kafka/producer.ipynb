{
 "cells": [
  {
   "cell_type": "markdown",
   "metadata": {},
   "source": [
    "# Producer (sends Kafka data)"
   ]
  },
  {
   "cell_type": "markdown",
   "metadata": {},
   "source": [
    "### Get 1% of Data"
   ]
  },
  {
   "cell_type": "code",
   "execution_count": null,
   "metadata": {},
   "outputs": [],
   "source": [
    "!aws s3 cp --no-sign-request s3://redshift-downloads/redset/serverless/sample_0.01.parquet .\n",
    "# Runs about 10 seconds"
   ]
  },
  {
   "cell_type": "markdown",
   "metadata": {},
   "source": [
    "### Convert Parquet File to CSV because we have to send row by row and sort after date to ensure the right order"
   ]
  },
  {
   "cell_type": "code",
   "execution_count": 2,
   "metadata": {},
   "outputs": [],
   "source": [
    "import pandas as pd\n",
    "df = pd.read_parquet('sample_0.01.parquet')\n",
    "\n",
    "# sort after arrival_timestamp to send in in the right order later\n",
    "df = df.sort_values(by='arrival_timestamp')\n",
    "df.to_csv('sample_0.01.csv', index=False)"
   ]
  },
  {
   "cell_type": "markdown",
   "metadata": {},
   "source": [
    "### Run this to start streaming (will run unlimited and repeat itself after finishing)"
   ]
  },
  {
   "cell_type": "code",
   "execution_count": null,
   "metadata": {},
   "outputs": [],
   "source": [
    "from confluent_kafka import Producer\n",
    "import pandas as pd\n",
    "import time\n",
    "\n",
    "# Parameter\n",
    "speed = 0.1  # batch per second\n",
    "batch_size = 10  #rows per batch\n",
    "topic = 'chache-me-if-you-can'\n",
    "csv_file = 'sample_0.01.csv'\n",
    "\n",
    "def delivery_report(err, msg):\n",
    "    if err is not None:\n",
    "        print(f'Nachricht konnte nicht gesendet werden: {err}')\n",
    "    else:\n",
    "        print(f'Nachricht wurde gesendet an: {msg.topic()} - Offset: {msg.offset()}')\n",
    "\n",
    "def stream_data_to_kafka(csv_file, kafka_config, topic, speed, batch_size):\n",
    "    # Kafka-Producer erstellen\n",
    "    producer = Producer(kafka_config)\n",
    "\n",
    "    try:\n",
    "        while True:  # Endlosschleife für kontinuierliches Senden\n",
    "            # CSV-Datei laden\n",
    "            data = pd.read_csv(csv_file, chunksize=batch_size)\n",
    "\n",
    "            for chunk in data:\n",
    "                for _, row in chunk.iterrows():\n",
    "                    # Zeilenweise JSON-String erstellen\n",
    "                    message = row.to_json()\n",
    "                    producer.produce(topic=topic, value=message, callback=delivery_report)\n",
    "\n",
    "                # Buffer leeren\n",
    "                producer.flush()\n",
    "\n",
    "                # Geschwindigkeit kontrollieren\n",
    "                time.sleep(1 / speed)  # `speed` definiert Nachrichten pro Sekunde\n",
    "\n",
    "            print(\"Datei vollständig gesendet. Starte von vorne...\")\n",
    "\n",
    "    except KeyboardInterrupt:\n",
    "        print(\"Producer wird beendet...\")\n",
    "    finally:\n",
    "        producer.flush()\n",
    "\n",
    "if __name__ == \"__main__\":\n",
    "    # Kafka-Konfiguration\n",
    "    kafka_config = {\n",
    "        'bootstrap.servers': 'localhost:9092'\n",
    "    }\n",
    "\n",
    "    # Parameter\n",
    "    speed = 100  # Nachrichten pro Sekunde\n",
    "    batch_size = 10  # Zeilen pro Batch\n",
    "\n",
    "    # Streaming starten\n",
    "    stream_data_to_kafka(csv_file, kafka_config, topic, speed, batch_size)\n"
   ]
  }
 ],
 "metadata": {
  "kernelspec": {
   "display_name": ".venv",
   "language": "python",
   "name": "python3"
  },
  "language_info": {
   "codemirror_mode": {
    "name": "ipython",
    "version": 3
   },
   "file_extension": ".py",
   "mimetype": "text/x-python",
   "name": "python",
   "nbconvert_exporter": "python",
   "pygments_lexer": "ipython3",
   "version": "3.12.8"
  }
 },
 "nbformat": 4,
 "nbformat_minor": 2
}
